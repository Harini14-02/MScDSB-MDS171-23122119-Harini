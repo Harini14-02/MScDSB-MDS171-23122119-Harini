{
 "cells": [
  {
   "cell_type": "code",
   "execution_count": 18,
   "metadata": {},
   "outputs": [
    {
     "name": "stdout",
     "output_type": "stream",
     "text": [
      "******************************\n",
      "The current options in the menu are:\n",
      "******************************\n",
      "{'rice': 30, 'idli': 10}\n",
      "******************************\n",
      "the price dict_values([30, 10])\n",
      "the price dict_values([30, 10])\n",
      "{'1042810': {'Phone': 124, 'Order': {'Rice': 3}}}\n"
     ]
    }
   ],
   "source": [
    "#restaurant\n",
    "#customers -> orders (MENU ITEMS)\n",
    "#collecting orders\n",
    "#billing\n",
    "#print bill\n",
    "#update order\n",
    "#search for an order\n",
    "\n",
    "\n",
    "import random\n",
    "\n",
    "class restaurant:\n",
    "    def __init__(self):\n",
    "        self.menu = {\n",
    "            \"rice\":30,\n",
    "            \"idli\":10,\n",
    "        }\n",
    "        #orderid: (set of order details)\n",
    "        self.orders = {}\n",
    "\n",
    "    def print_menu(self):\n",
    "        print(\"*\"*30)\n",
    "        print(\"The current options in the menu are:\")\n",
    "        print(\"*\"*30)\n",
    "        print(self.menu)\n",
    "        print(\"*\"*30) \n",
    "\n",
    "    def generate_Order_id(self):\n",
    "        orderid= \"\"\n",
    "        for i in range(1,6,1):\n",
    "            orderid+=str(random.randint(1,10))\n",
    "        return orderid\n",
    "\n",
    "    def collect_order(self):\n",
    "        self.print_menu()\n",
    "        phone=int(input(\"Enter customer phone number:\"))\n",
    "        order={}\n",
    "        while True:\n",
    "            item=input(\"Enter the item name you want to order:\").strip().title()\n",
    "            qty=int(input(\"Enter the quantity of the item:\"))\n",
    "            order[item] = qty\n",
    "            choice=input(\"Do you want to complete the order? 'Y' \").strip().upper()\n",
    "            if choice=='Y':\n",
    "                break\n",
    "        orderid=self.generate_Order_id()\n",
    "        self.orders[orderid] = {\n",
    "            \"Phone\" : phone,\n",
    "            \"Order\" : order,\n",
    "        } \n",
    "        for item in self.menu.values():\n",
    "            print(\"the price\", self.menu.values())\n",
    "        #print menu\n",
    "        #ask user to enter the value\n",
    "        #collect the value and enter the order\n",
    "        #print the order\n",
    "        print(self.orders)\n",
    "\n",
    "cook=restaurant()\n",
    "\n",
    "cook.collect_order()"
   ]
  },
  {
   "cell_type": "code",
   "execution_count": 26,
   "metadata": {},
   "outputs": [
    {
     "ename": "KeyError",
     "evalue": "1",
     "output_type": "error",
     "traceback": [
      "\u001b[1;31m---------------------------------------------------------------------------\u001b[0m",
      "\u001b[1;31mKeyError\u001b[0m                                  Traceback (most recent call last)",
      "\u001b[1;32md:\\Python\\Basics\\IPYNB\\Classes.ipynb Cell 2\u001b[0m line \u001b[0;36m6\n\u001b[0;32m      <a href='vscode-notebook-cell:/d%3A/Python/Basics/IPYNB/Classes.ipynb#W1sZmlsZQ%3D%3D?line=0'>1</a>\u001b[0m a \u001b[39m=\u001b[39m{\u001b[39m'\u001b[39m\u001b[39m1042810\u001b[39m\u001b[39m'\u001b[39m: {\u001b[39m'\u001b[39m\u001b[39mPhone\u001b[39m\u001b[39m'\u001b[39m: \u001b[39m124\u001b[39m, \u001b[39m'\u001b[39m\u001b[39mOrder\u001b[39m\u001b[39m'\u001b[39m: {\u001b[39m'\u001b[39m\u001b[39mRice\u001b[39m\u001b[39m'\u001b[39m: \u001b[39m3\u001b[39m}}}\n\u001b[0;32m      <a href='vscode-notebook-cell:/d%3A/Python/Basics/IPYNB/Classes.ipynb#W1sZmlsZQ%3D%3D?line=1'>2</a>\u001b[0m menu \u001b[39m=\u001b[39m {\n\u001b[0;32m      <a href='vscode-notebook-cell:/d%3A/Python/Basics/IPYNB/Classes.ipynb#W1sZmlsZQ%3D%3D?line=2'>3</a>\u001b[0m             \u001b[39m\"\u001b[39m\u001b[39mrice\u001b[39m\u001b[39m\"\u001b[39m:\u001b[39m30\u001b[39m,\n\u001b[0;32m      <a href='vscode-notebook-cell:/d%3A/Python/Basics/IPYNB/Classes.ipynb#W1sZmlsZQ%3D%3D?line=3'>4</a>\u001b[0m             \u001b[39m\"\u001b[39m\u001b[39midli\u001b[39m\u001b[39m\"\u001b[39m:\u001b[39m10\u001b[39m,\n\u001b[0;32m      <a href='vscode-notebook-cell:/d%3A/Python/Basics/IPYNB/Classes.ipynb#W1sZmlsZQ%3D%3D?line=4'>5</a>\u001b[0m         }\n\u001b[1;32m----> <a href='vscode-notebook-cell:/d%3A/Python/Basics/IPYNB/Classes.ipynb#W1sZmlsZQ%3D%3D?line=5'>6</a>\u001b[0m \u001b[39mprint\u001b[39m(a[\u001b[39m1\u001b[39;49m][\u001b[39m'\u001b[39m\u001b[39mOrder\u001b[39m\u001b[39m'\u001b[39m])\n",
      "\u001b[1;31mKeyError\u001b[0m: 1"
     ]
    }
   ],
   "source": [
    "a ={'1042810': {'Phone': 124, 'Order': {'Rice': 3}}}\n",
    "menu = {\n",
    "            \"rice\":30,\n",
    "            \"idli\":10,\n",
    "        }\n",
    "print(a[1]['Order'])"
   ]
  },
  {
   "cell_type": "code",
   "execution_count": 2,
   "metadata": {},
   "outputs": [
    {
     "name": "stdout",
     "output_type": "stream",
     "text": [
      "<__main__.sample object at 0x0000017B89BE8290>\n"
     ]
    }
   ],
   "source": [
    "class sample:\n",
    "    def __init__(self):\n",
    "        x=[]\n",
    "\n",
    "a=sample()\n",
    "print(a)"
   ]
  },
  {
   "cell_type": "code",
   "execution_count": 5,
   "metadata": {},
   "outputs": [
    {
     "name": "stdout",
     "output_type": "stream",
     "text": [
      "Hani\n",
      "20\n"
     ]
    }
   ],
   "source": [
    "class student:\n",
    "    def __init__(self,name,age):\n",
    "        self.name = name \n",
    "        self.age = age\n",
    "    \n",
    "p = student(\"Hani\",20)\n",
    "print(p.name)\n",
    "print(p.age)"
   ]
  },
  {
   "cell_type": "code",
   "execution_count": null,
   "metadata": {},
   "outputs": [],
   "source": []
  }
 ],
 "metadata": {
  "kernelspec": {
   "display_name": "Python 3",
   "language": "python",
   "name": "python3"
  },
  "language_info": {
   "codemirror_mode": {
    "name": "ipython",
    "version": 3
   },
   "file_extension": ".py",
   "mimetype": "text/x-python",
   "name": "python",
   "nbconvert_exporter": "python",
   "pygments_lexer": "ipython3",
   "version": "3.11.4"
  }
 },
 "nbformat": 4,
 "nbformat_minor": 2
}
