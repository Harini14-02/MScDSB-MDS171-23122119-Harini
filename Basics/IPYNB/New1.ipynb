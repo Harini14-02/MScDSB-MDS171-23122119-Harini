{
 "cells": [
  {
   "cell_type": "code",
   "execution_count": null,
   "metadata": {},
   "outputs": [],
   "source": [
    "a = 1\n",
    "while a<=10 :\n",
    "    print(a)\n",
    "    a = a+1"
   ]
  },
  {
   "cell_type": "code",
   "execution_count": null,
   "metadata": {},
   "outputs": [],
   "source": [
    "lt = input(\"enter some numbers\")\n",
    "a=lt.split(\",\")\n",
    "\n",
    "even = []\n",
    "for i in a:\n",
    "    if int(i)%2 == 0:\n",
    "        even.append(i)\n",
    "    else:\n",
    "        exit    \n",
    "\n",
    "even"
   ]
  },
  {
   "cell_type": "code",
   "execution_count": null,
   "metadata": {},
   "outputs": [],
   "source": [
    "student_grades = {\"Alice\":90,\"Bob\":70,\"Carol\":95}\n",
    "print(student_grades)"
   ]
  },
  {
   "cell_type": "code",
   "execution_count": null,
   "metadata": {},
   "outputs": [],
   "source": [
    "sum = 0\n",
    "\n",
    "for item in range (1,101,1):\n",
    "    sum += int(item)\n",
    "print(\"The sum of 1 to 100 is : \",sum)"
   ]
  },
  {
   "cell_type": "code",
   "execution_count": 1,
   "metadata": {},
   "outputs": [
    {
     "name": "stdout",
     "output_type": "stream",
     "text": [
      "f\n",
      "r\n",
      "u\n",
      "i\n",
      "t\n",
      "s\n"
     ]
    }
   ],
   "source": [
    "for i in \"fruits\":\n",
    "    print(i)"
   ]
  },
  {
   "cell_type": "code",
   "execution_count": 1,
   "metadata": {},
   "outputs": [
    {
     "name": "stdout",
     "output_type": "stream",
     "text": [
      "Requirement already satisfied: numpy in d:\\new folder (2)\\lib\\site-packages (1.25.2)\n",
      "Note: you may need to restart the kernel to use updated packages.\n"
     ]
    }
   ],
   "source": [
    "pip install numpy"
   ]
  },
  {
   "cell_type": "code",
   "execution_count": 1,
   "metadata": {},
   "outputs": [],
   "source": [
    "import numpy as np"
   ]
  },
  {
   "cell_type": "code",
   "execution_count": 4,
   "metadata": {},
   "outputs": [
    {
     "data": {
      "text/plain": [
       "array([1., 1., 1., 1., 1., 1., 1., 1., 1., 1., 1., 1., 1., 1., 1., 1., 1.,\n",
       "       1., 1., 1., 1., 1., 1., 1., 1., 1., 1., 1., 1., 1., 1., 1., 1., 1.,\n",
       "       1., 1., 1., 1., 1., 1., 1., 1., 1., 1., 1., 1., 1., 1., 1., 1., 1.,\n",
       "       1., 1., 1., 1., 1., 1., 1., 1., 1., 1., 1., 1., 1., 1., 1., 1., 1.,\n",
       "       1., 1., 1., 1., 1., 1., 1., 1., 1., 1., 1., 1., 1., 1., 1., 1., 1.,\n",
       "       1., 1., 1., 1., 1., 1., 1., 1., 1., 1., 1., 1., 1., 1., 1.])"
      ]
     },
     "execution_count": 4,
     "metadata": {},
     "output_type": "execute_result"
    }
   ],
   "source": [
    "np.ones(100)"
   ]
  },
  {
   "cell_type": "code",
   "execution_count": 5,
   "metadata": {},
   "outputs": [
    {
     "data": {
      "text/plain": [
       "array([1, 1, 1, 1, 1, 1, 1, 1, 1, 1, 1, 1, 1, 1, 1, 1, 1, 1, 1, 1, 1, 1,\n",
       "       1, 1, 1, 1, 1, 1, 1, 1, 1, 1, 1, 1, 1, 1, 1, 1, 1, 1, 1, 1, 1, 1,\n",
       "       1, 1, 1, 1, 1, 1, 1, 1, 1, 1, 1, 1, 1, 1, 1, 1, 1, 1, 1, 1, 1, 1,\n",
       "       1, 1, 1, 1, 1, 1, 1, 1, 1, 1, 1, 1, 1, 1, 1, 1, 1, 1, 1, 1, 1, 1,\n",
       "       1, 1, 1, 1, 1, 1, 1, 1, 1, 1, 1, 1])"
      ]
     },
     "execution_count": 5,
     "metadata": {},
     "output_type": "execute_result"
    }
   ],
   "source": [
    "np.ones(100,dtype=int)"
   ]
  },
  {
   "cell_type": "markdown",
   "metadata": {},
   "source": [
    "Create a sportmart class where u will have inventory/shelf of item and oreders of the customers.\n",
    "create a csv file wgich will store your inventory details and order deatilas with the help of file handling technique in python read the files and create an object for trinity store and populate the inventory items and the orders for the trinity store objecct.\n",
    "to make sre u have added all the items in a file use a display method to show your inventory and the order history."
   ]
  },
  {
   "cell_type": "code",
   "execution_count": 17,
   "metadata": {},
   "outputs": [],
   "source": [
    "\n",
    "def fileOpen(): #function to initiate a new file and write column header\n",
    "    file=open(\"Customer.csv\",\"a+\")\n",
    "    file.write(\"Item,Quantity,Phone\")\n",
    "    item = input(\"enter the item \")\n",
    "    qty = input(\"enter the quantity\")\n",
    "    phone = input(\"enter your phone number\")\n",
    "    file.write(\"\\n\"+item+\",\"+str(qty)+\",\"+str(phone)) \n",
    "fileOpen()\n",
    "\n",
    "\n",
    "def fileOpen1(): #function to initiate a new file and write column header\n",
    "    file=open(\"Inventory.csv\",\"a+\")\n",
    "    file.write(\"Item,Price\")\n",
    "    item = input(\"enter the item \")\n",
    "    price = input(\"enter the price\")\n",
    "    file.write(\"\\n\"+item+\",\"+str(price)) \n",
    "fileOpen1()\n",
    "\n",
    "\n",
    "\n"
   ]
  },
  {
   "cell_type": "code",
   "execution_count": null,
   "metadata": {},
   "outputs": [],
   "source": [
    "class sportmart:\n",
    "\n",
    "    def __init__(self):\n",
    "        self.item = {\n",
    "            \"Cofee\":100,\n",
    "            \"Olive Oil\":900,\n",
    "            \"Noodles\":150,\n",
    "            \"Washing Powder\":500,}\n",
    "    \n",
    "    \n",
    "    def display(self):\n",
    "        print(self.item)\n",
    "\n",
    "    def customer(self):\n",
    "        self.customer=[]\n",
    "        cust = input(\"Enter the item you wish to purchase\")\n",
    "        qty = int(input(\"Enter the quantity\"))\n",
    "        self.customer.append(cust)\n",
    "        self.customer.append(qty)\n",
    "        print(self.customer)\n",
    "        \n",
    "a = sportmart()\n",
    "a.customer()\n",
    "a.display()"
   ]
  },
  {
   "cell_type": "code",
   "execution_count": null,
   "metadata": {},
   "outputs": [],
   "source": [
    "# def newOrder(self,OrderID,ItemName,Quantity,Price,Total):\n",
    "#         file=open(\"Customer.csv\",\"a+\")\n",
    "#         file.write(OrderID,ItemName,str(Quantity),str(Price),str(Total))\n",
    "#         file.close()\n",
    "# OrderID = input(\"Enter Order ID\")\n",
    "# ItemName = input(\"Enter Item Name\")\n",
    "# Quantity = int(input(\"Enter Quantity\"))\n",
    "# Price = int(input(\"Enter Price\"))\n",
    "# Total = Quantity*Price\n",
    "# newOrder()\n",
    "    \n",
    "    \n",
    "class sportMart:\n",
    "    def _init_(self):\n",
    "        self.inventory = {}\n",
    "        self.orders = {}\n",
    "        \n",
    "    def createOrder(self,OrderID,ItemName,Quantity,Price,Total):\n",
    "        temp = {\n",
    "            \"orderid\" : OrderID,\n",
    "            \"itemname\" : ItemName,\n",
    "            \"qty\" : Quantity,\n",
    "            \"price\" : Price,\n",
    "            \"total\" : Total\n",
    "        }\n",
    "        self.orders[OrderID] = temp\n",
    "        \n",
    "    def createInventory(self,ProductID,ItemName,Quantity,Price):\n",
    "        inven = {\n",
    "            \"product\" : ProductID,\n",
    "            \"itemname\" : ItemName,\n",
    "            \"qty\" : Quantity,\n",
    "            \"price\" : Price\n",
    "        }\n",
    "        self.inventory[ProductID] = inven\n",
    "        \n",
    "    def displayOrder(self):\n",
    "        print(self.orders)\n",
    "        \n",
    "    def displayInventory(self):\n",
    "        print(self.inventory)\n",
    "        \n",
    "    def newOrder(OrderID,ItemName,Quantity,Price,Total):\n",
    "        file=open(\"Customer.csv\",\"a+\")\n",
    "        file.write(OrderID,ItemName,str(Quantity),str(Price),str(Total))\n",
    "        file.close()\n",
    "        OrderID = input(\"Enter Order ID\")\n",
    "        ItemName = input(\"Enter Item Name\")\n",
    "        Quantity = int(input(\"Enter Quantity\"))\n",
    "        Price = int(input(\"Enter Price\"))\n",
    "        Total = Quantity*Price\n",
    "    # newOrder()\n",
    "    \n",
    "a=sportMart()\n",
    "# a.newOrder()\n",
    "        \n",
    "trinity = sportMart()\n",
    "orders = open(\"Customer.csv\",\"r\")\n",
    "\n",
    "#     orders.write([OrderID]+\",\"+ItemName,str(Quantity),str(Price),str(Total))\n",
    "# OrderID = input(\"Enter Order ID\")\n",
    "# ItemName = input(\"Enter Item Name\")\n",
    "# Quantity = int(input(\"Enter Quantity\"))\n",
    "# Price = int(input(\"Enter Price\"))\n",
    "# Total = Quantity*Price\n",
    "\n",
    "invent = open(\"Inventory.csv\",\"r\")\n",
    "order_head = orders.readline()\n",
    "order_orders = orders.readlines()\n",
    "inve_head = invent.readline()\n",
    "inve_data = invent.readlines()\n",
    "for i in order_orders:\n",
    "    newtemp = i.strip().split('\\t')\n",
    "    # print(newtemp)\n",
    "    trinity.createOrder(newtemp[0],newtemp[1],newtemp[2],newtemp[3],newtemp[4])\n",
    "print()\n",
    "trinity.displayOrder()\n",
    "print()\n",
    "print(\"-\"*100)\n",
    "print()\n",
    "\n",
    "for j in inve_data:\n",
    "    newtemp2 =j.strip().split('\\t')\n",
    "    # print(newtemp)\n",
    "    trinity.createInventory(newtemp2[0],newtemp2[1],newtemp2[2],newtemp2[3])\n",
    "trinity.displayInventory()\n",
    "print()\n",
    "print(\"hello\")\n",
    "# open the file in writemode\n",
    "with open(\"newfile.csv\",\"w\") as file:\n",
    "    for item in trinity.orders:\n",
    "        # print(trinity.orders[item])\n",
    "        temp = \"\"\n",
    "        for key in trinity.orders[item]:\n",
    "            # print(key,trinity.orders[item][key])\n",
    "            temp+= trinity.orders[item][key]+\",\"\n",
    "        print(temp)\n",
    "        file.write(temp[1:]+\"\\n\")\n",
    "\n",
    "\n",
    "def neworders():\n",
    "    orderid=input(\"enter the orderid\")\n",
    "    itemname=input(\"enter the item name\").title()\n",
    "    quantity=input(\"enter the quantity\")\n",
    "    price=input(\"enter the quntity\")\n",
    "    total=input(\"enter the total\")\n",
    "    inv=open(\"inventory.csv\",'+w')\n",
    "    for item in trinity.inventory.values():\n",
    "        if item['productname']==itemname:\n",
    "            print(item['quantity'])  \n",
    "            item['quantity']=str(int(item['quantity'])-int(quantity))\n",
    "            print(item['quantity'])  \n",
    "        inv.write(item['productid']+\",\"+item['productname']+\",\"+item['quantity']+\",\"+item['price']+\"\\n\")\n",
    "\n",
    "    file=open(\"customer.csv\",\"+a\")\n",
    "    file.write(orderid+\",\"+itemname+\",\"+quantity+\",\"+price+\",\"+total+\"\\n\")\n",
    "    file.close()\n",
    "    trinity.createorder(orderid,itemname,quantity,price,total)\n",
    "    \n",
    "    \n",
    "neworders()"
   ]
  }
 ],
 "metadata": {
  "kernelspec": {
   "display_name": "Python 3",
   "language": "python",
   "name": "python3"
  },
  "language_info": {
   "codemirror_mode": {
    "name": "ipython",
    "version": 3
   },
   "file_extension": ".py",
   "mimetype": "text/x-python",
   "name": "python",
   "nbconvert_exporter": "python",
   "pygments_lexer": "ipython3",
   "version": "3.11.4"
  },
  "orig_nbformat": 4
 },
 "nbformat": 4,
 "nbformat_minor": 2
}
