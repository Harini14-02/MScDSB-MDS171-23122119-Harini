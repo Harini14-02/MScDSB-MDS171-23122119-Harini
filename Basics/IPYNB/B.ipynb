{
 "cells": [
  {
   "cell_type": "markdown",
   "metadata": {},
   "source": [
    "Get user input and print the week - NESTED IF\n"
   ]
  },
  {
   "cell_type": "code",
   "execution_count": 1,
   "metadata": {},
   "outputs": [
    {
     "name": "stdout",
     "output_type": "stream",
     "text": [
      "Its Friday\n"
     ]
    }
   ],
   "source": [
    "a = int(input(\"Enter a no btw 1-7 : \"))\n",
    "\n",
    "if a == 1:\n",
    "    print(\"Its Monday\")\n",
    "elif a == 2:\n",
    "    print(\"Its Tuesday\")\n",
    "elif a == 3:\n",
    "    print(\"Its Wednessday\")\n",
    "elif a == 4:\n",
    "    print(\"Its Thursday\")\n",
    "elif a == 5:\n",
    "    print(\"Its Friday\")\n",
    "elif a == 6:\n",
    "    print(\"Its Saturday\")\n",
    "elif a == 7:\n",
    "    print(\"Its Sunday\")\n",
    "else :\n",
    "    print(\"enter a valid number\")"
   ]
  },
  {
   "cell_type": "code",
   "execution_count": 4,
   "metadata": {},
   "outputs": [
    {
     "name": "stdout",
     "output_type": "stream",
     "text": [
      "6\n",
      "4\n"
     ]
    }
   ],
   "source": [
    "msg = \"delulu\"\n",
    "print(len(msg))\n",
    "print(len(\"lala\"))"
   ]
  },
  {
   "cell_type": "code",
   "execution_count": 5,
   "metadata": {},
   "outputs": [
    {
     "name": "stdout",
     "output_type": "stream",
     "text": [
      "d\n",
      "e\n",
      "l\n",
      "u\n",
      "l\n",
      "u\n"
     ]
    }
   ],
   "source": [
    "for i in msg:\n",
    "    print(i)"
   ]
  },
  {
   "cell_type": "code",
   "execution_count": 6,
   "metadata": {},
   "outputs": [
    {
     "data": {
      "text/plain": [
       "'DELULU'"
      ]
     },
     "execution_count": 6,
     "metadata": {},
     "output_type": "execute_result"
    }
   ],
   "source": [
    "msg.upper()"
   ]
  },
  {
   "cell_type": "code",
   "execution_count": 7,
   "metadata": {},
   "outputs": [
    {
     "data": {
      "text/plain": [
       "'delulu'"
      ]
     },
     "execution_count": 7,
     "metadata": {},
     "output_type": "execute_result"
    }
   ],
   "source": [
    "msg.lower()"
   ]
  },
  {
   "cell_type": "markdown",
   "metadata": {},
   "source": [
    "Strip() - used to remove the empty spaces.\n",
    "Split() - used to split the datas\n",
    "Format() -\n",
    "\\n - new line character\n",
    "\\t - tab space"
   ]
  },
  {
   "cell_type": "code",
   "execution_count": 11,
   "metadata": {},
   "outputs": [
    {
     "name": "stdout",
     "output_type": "stream",
     "text": [
      "<class 'str'>\n",
      "20\n",
      "3\n",
      "['2', '3', '4', '5', '6']\n"
     ]
    }
   ],
   "source": [
    "name = '        abe         '\n",
    "print(type(name))\n",
    "print(len(name))\n",
    "print(len(name.strip()))\n",
    "no = \"2,3,4,5,6\"\n",
    "print(no.split(','))"
   ]
  },
  {
   "cell_type": "code",
   "execution_count": 4,
   "metadata": {},
   "outputs": [
    {
     "name": "stdout",
     "output_type": "stream",
     "text": [
      "1\n",
      "2\n",
      "3\n",
      "4\n",
      "sum 11\n",
      "['1', '2', '3', '4']\n"
     ]
    }
   ],
   "source": [
    "no = \"1,2,3,4\"\n",
    "nos = no.split(',')\n",
    "sum = 1\n",
    "for item in nos:\n",
    "    print(item)\n",
    "    sum += int(item)\n",
    "print(\"sum\",sum)\n",
    "print(nos)\n",
    "\n",
    "a=[]\n",
    "b=[]\n",
    "c=int(input)\n",
    "\n",
    "\n"
   ]
  },
  {
   "cell_type": "markdown",
   "metadata": {},
   "source": []
  },
  {
   "cell_type": "code",
   "execution_count": 25,
   "metadata": {},
   "outputs": [
    {
     "name": "stdout",
     "output_type": "stream",
     "text": [
      "['1', '2', '3', '4']\n",
      "1 <class 'str'> 1 <class 'int'>\n",
      "2 <class 'str'> 2 <class 'int'>\n",
      "3 <class 'str'> 3 <class 'int'>\n",
      "4 <class 'str'> 4 <class 'int'>\n",
      "10\n"
     ]
    }
   ],
   "source": [
    "num = \"1,2,3,4\"\n",
    "no = num.split(',')\n",
    "print(no)\n",
    "sum = 0\n",
    "for item in no:\n",
    "    temp=int(item)\n",
    "    sum = sum+temp\n",
    "    print(item,type(item),temp,type(temp))\n",
    "print(sum)"
   ]
  },
  {
   "cell_type": "code",
   "execution_count": 31,
   "metadata": {},
   "outputs": [
    {
     "name": "stdout",
     "output_type": "stream",
     "text": [
      "your username : hani and password entered is : hani\n"
     ]
    }
   ],
   "source": [
    "name = input(\"enter name\")\n",
    "password = input(\"enter the password :\")\n",
    "print(\"your username : {} and password entered is : {}\".format(name,password))"
   ]
  },
  {
   "cell_type": "markdown",
   "metadata": {},
   "source": [
    "loop"
   ]
  },
  {
   "cell_type": "code",
   "execution_count": 32,
   "metadata": {},
   "outputs": [
    {
     "name": "stdout",
     "output_type": "stream",
     "text": [
      "10\n",
      "11\n",
      "12\n",
      "13\n",
      "14\n",
      "15\n",
      "16\n",
      "17\n",
      "18\n",
      "19\n"
     ]
    }
   ],
   "source": [
    "for i in range(10,20,1):\n",
    "    print(i)"
   ]
  },
  {
   "cell_type": "code",
   "execution_count": 33,
   "metadata": {},
   "outputs": [
    {
     "name": "stdout",
     "output_type": "stream",
     "text": [
      "2\n",
      "4\n",
      "6\n"
     ]
    }
   ],
   "source": [
    "n = int(input(\"enter no\"))\n",
    "for i in range(2,n,2):\n",
    "    print(i)"
   ]
  },
  {
   "cell_type": "code",
   "execution_count": 36,
   "metadata": {},
   "outputs": [
    {
     "name": "stdout",
     "output_type": "stream",
     "text": [
      "['abc', 'a', 12, 13]\n"
     ]
    },
    {
     "data": {
      "text/plain": [
       "12"
      ]
     },
     "execution_count": 36,
     "metadata": {},
     "output_type": "execute_result"
    }
   ],
   "source": [
    "nlist = [\"abc\",'a',12,13]\n",
    "print(nlist)\n",
    "nlist[2]"
   ]
  },
  {
   "cell_type": "code",
   "execution_count": null,
   "metadata": {},
   "outputs": [],
   "source": []
  }
 ],
 "metadata": {
  "kernelspec": {
   "display_name": "Python 3",
   "language": "python",
   "name": "python3"
  },
  "language_info": {
   "codemirror_mode": {
    "name": "ipython",
    "version": 3
   },
   "file_extension": ".py",
   "mimetype": "text/x-python",
   "name": "python",
   "nbconvert_exporter": "python",
   "pygments_lexer": "ipython3",
   "version": "3.11.4"
  },
  "orig_nbformat": 4
 },
 "nbformat": 4,
 "nbformat_minor": 2
}
