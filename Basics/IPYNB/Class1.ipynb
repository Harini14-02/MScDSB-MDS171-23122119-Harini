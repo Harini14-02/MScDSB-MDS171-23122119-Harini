{
 "cells": [
  {
   "cell_type": "markdown",
   "metadata": {},
   "source": [
    "Create a sportmart class where u will have inventory/shelf of item and oreders of the customers.\n",
    "create a csv file wgich will store your inventory details and order deatilas with the help of file handling technique in python read the files and create an object for trinity store and populate the inventory items and the orders for the trinity store objecct.\n",
    "to make sre u have added all the items in a file use a display method to show your inventory and the order history."
   ]
  },
  {
   "cell_type": "code",
   "execution_count": 2,
   "metadata": {},
   "outputs": [
    {
     "ename": "UnboundLocalError",
     "evalue": "cannot access local variable 'file' where it is not associated with a value",
     "output_type": "error",
     "traceback": [
      "\u001b[1;31m---------------------------------------------------------------------------\u001b[0m",
      "\u001b[1;31mUnboundLocalError\u001b[0m                         Traceback (most recent call last)",
      "\u001b[1;32md:\\Python\\Basics\\IPYNB\\Class1.ipynb Cell 2\u001b[0m line \u001b[0;36m8\n\u001b[0;32m      <a href='vscode-notebook-cell:/d%3A/Python/Basics/IPYNB/Class1.ipynb#W0sZmlsZQ%3D%3D?line=5'>6</a>\u001b[0m     file\u001b[39m=\u001b[39m\u001b[39mopen\u001b[39m(\u001b[39m\"\u001b[39m\u001b[39mCustomer.csv\u001b[39m\u001b[39m\"\u001b[39m,\u001b[39m\"\u001b[39m\u001b[39ma+\u001b[39m\u001b[39m\"\u001b[39m)\n\u001b[0;32m      <a href='vscode-notebook-cell:/d%3A/Python/Basics/IPYNB/Class1.ipynb#W0sZmlsZQ%3D%3D?line=6'>7</a>\u001b[0m     file\u001b[39m.\u001b[39mwrite(\u001b[39m\"\u001b[39m\u001b[39m\\n\u001b[39;00m\u001b[39m\"\u001b[39m\u001b[39m+\u001b[39mitem\u001b[39m+\u001b[39m\u001b[39m\"\u001b[39m\u001b[39m,\u001b[39m\u001b[39m\"\u001b[39m\u001b[39m+\u001b[39m\u001b[39mstr\u001b[39m(qty)\u001b[39m+\u001b[39m\u001b[39m\"\u001b[39m\u001b[39m,\u001b[39m\u001b[39m\"\u001b[39m\u001b[39m+\u001b[39m\u001b[39mstr\u001b[39m(phone)) \n\u001b[1;32m----> <a href='vscode-notebook-cell:/d%3A/Python/Basics/IPYNB/Class1.ipynb#W0sZmlsZQ%3D%3D?line=7'>8</a>\u001b[0m fileOpen()\n\u001b[0;32m     <a href='vscode-notebook-cell:/d%3A/Python/Basics/IPYNB/Class1.ipynb#W0sZmlsZQ%3D%3D?line=9'>10</a>\u001b[0m \u001b[39mdef\u001b[39;00m \u001b[39mfileOpen1\u001b[39m(): \u001b[39m#function to initiate a new file and write column header\u001b[39;00m\n\u001b[0;32m     <a href='vscode-notebook-cell:/d%3A/Python/Basics/IPYNB/Class1.ipynb#W0sZmlsZQ%3D%3D?line=10'>11</a>\u001b[0m     file\u001b[39m.\u001b[39mwrite(\u001b[39m\"\u001b[39m\u001b[39mItem,Price\u001b[39m\u001b[39m\"\u001b[39m)\n",
      "\u001b[1;32md:\\Python\\Basics\\IPYNB\\Class1.ipynb Cell 2\u001b[0m line \u001b[0;36m2\n\u001b[0;32m      <a href='vscode-notebook-cell:/d%3A/Python/Basics/IPYNB/Class1.ipynb#W0sZmlsZQ%3D%3D?line=0'>1</a>\u001b[0m \u001b[39mdef\u001b[39;00m \u001b[39mfileOpen\u001b[39m(): \u001b[39m#function to initiate a new file and write column header\u001b[39;00m\n\u001b[1;32m----> <a href='vscode-notebook-cell:/d%3A/Python/Basics/IPYNB/Class1.ipynb#W0sZmlsZQ%3D%3D?line=1'>2</a>\u001b[0m     file\u001b[39m.\u001b[39mwrite(\u001b[39m\"\u001b[39m\u001b[39mItem,Quantity,Phone\u001b[39m\u001b[39m\"\u001b[39m)\n\u001b[0;32m      <a href='vscode-notebook-cell:/d%3A/Python/Basics/IPYNB/Class1.ipynb#W0sZmlsZQ%3D%3D?line=2'>3</a>\u001b[0m     item \u001b[39m=\u001b[39m \u001b[39minput\u001b[39m(\u001b[39m\"\u001b[39m\u001b[39menter the item \u001b[39m\u001b[39m\"\u001b[39m)\n\u001b[0;32m      <a href='vscode-notebook-cell:/d%3A/Python/Basics/IPYNB/Class1.ipynb#W0sZmlsZQ%3D%3D?line=3'>4</a>\u001b[0m     qty \u001b[39m=\u001b[39m \u001b[39minput\u001b[39m(\u001b[39m\"\u001b[39m\u001b[39menter the quantity\u001b[39m\u001b[39m\"\u001b[39m)\n",
      "\u001b[1;31mUnboundLocalError\u001b[0m: cannot access local variable 'file' where it is not associated with a value"
     ]
    }
   ],
   "source": [
    "\n",
    "def fileOpen(): #function to initiate a new file and write column header\n",
    "    file.write(\"Item,Quantity,Phone\")\n",
    "    item = input(\"enter the item \")\n",
    "    qty = input(\"enter the quantity\")\n",
    "    phone = input(\"enter your phone number\")\n",
    "    file=open(\"Customer.csv\",\"a+\")\n",
    "    file.write(\"\\n\"+item+\",\"+str(qty)+\",\"+str(phone)) \n",
    "fileOpen()\n",
    "\n",
    "def fileOpen1(): #function to initiate a new file and write column header\n",
    "    file.write(\"Item,Price\")\n",
    "    item = input(\"enter the item \")\n",
    "    price = input(\"enter the price\")\n",
    "    file=open(\"Inventory.csv\",\"a+\")\n",
    "    file.write(\"\\n\"+item+\",\"+str(price)) \n",
    "fileOpen1()\n",
    "\n",
    "# class sportmart:\n",
    "\n",
    "#     def __init__(self):\n",
    "#         self.item = {\n",
    "#             \"Cofee\":100,\n",
    "#             \"Olive Oil\":900,\n",
    "#             \"Noodles\":150,\n",
    "#             \"Washing Powder\":500,}\n",
    "    \n",
    "#     def display(self):\n",
    "#         print(self.item)\n",
    "\n",
    "#     def customer(self):\n",
    "#         self.customer=[]\n",
    "#         cust = input(\"Enter the item you wish to purchase\")\n",
    "#         qty = int(input(\"Enter the quantity\"))\n",
    "#         self.customer.append(cust)\n",
    "#         self.customer.append(qty)\n",
    "#         print(self.customer)\n",
    "        \n",
    "# a = sportmart()\n",
    "# a.customer()\n",
    "# a.display()\n",
    "\n",
    "\n"
   ]
  },
  {
   "cell_type": "code",
   "execution_count": null,
   "metadata": {},
   "outputs": [],
   "source": [
    "class sportmart:\n",
    "\n",
    "    def __init__(self):\n",
    "        self.item = {\n",
    "            \"Cofee\":100,\n",
    "            \"Olive Oil\":900,\n",
    "            \"Noodles\":150,\n",
    "            \"Washing Powder\":500,}\n",
    "    \n",
    "    def display(self):\n",
    "        print(self.item)\n",
    "\n",
    "    def customer(self):\n",
    "        self.customer=[]\n",
    "        cust = input(\"Enter the item you wish to purchase\")\n",
    "        qty = int(input(\"Enter the quantity\"))\n",
    "        self.customer.append(cust)\n",
    "        self.customer.append(qty)\n",
    "        print(self.customer)\n",
    "        \n",
    "a = sportmart()\n",
    "a.customer()\n",
    "a.display()"
   ]
  }
 ],
 "metadata": {
  "kernelspec": {
   "display_name": "Python 3",
   "language": "python",
   "name": "python3"
  },
  "language_info": {
   "codemirror_mode": {
    "name": "ipython",
    "version": 3
   },
   "file_extension": ".py",
   "mimetype": "text/x-python",
   "name": "python",
   "nbconvert_exporter": "python",
   "pygments_lexer": "ipython3",
   "version": "3.11.4"
  }
 },
 "nbformat": 4,
 "nbformat_minor": 2
}
