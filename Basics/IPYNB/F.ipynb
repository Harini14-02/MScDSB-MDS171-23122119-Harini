{
 "cells": [
  {
   "cell_type": "markdown",
   "metadata": {},
   "source": [
    "WHILE LOOP"
   ]
  },
  {
   "cell_type": "code",
   "execution_count": 2,
   "metadata": {},
   "outputs": [
    {
     "name": "stdout",
     "output_type": "stream",
     "text": [
      "0 0\n",
      "1 1\n",
      "2 4\n",
      "3 9\n",
      "4 16\n",
      "5 25\n",
      "6 36\n"
     ]
    }
   ],
   "source": [
    "a = 0\n",
    "while a<7 :\n",
    "    res = a*a\n",
    "    print(a,res)\n",
    "    a = a+1\n",
    "    "
   ]
  },
  {
   "cell_type": "code",
   "execution_count": 2,
   "metadata": {},
   "outputs": [
    {
     "name": "stdout",
     "output_type": "stream",
     "text": [
      "1\n",
      "2\n",
      "3\n",
      "4\n",
      "5\n",
      "6\n"
     ]
    }
   ],
   "source": [
    "for i in range(1,10,1):\n",
    "    if i == 7:\n",
    "        break\n",
    "    print(i)"
   ]
  },
  {
   "cell_type": "code",
   "execution_count": 3,
   "metadata": {},
   "outputs": [
    {
     "name": "stdout",
     "output_type": "stream",
     "text": [
      "1\n",
      "2\n",
      "3\n",
      "4\n",
      "5\n",
      "6\n",
      "8\n",
      "9\n"
     ]
    }
   ],
   "source": [
    "for i in range(1,10,1):\n",
    "    if i == 7:\n",
    "        continue\n",
    "    print(i)"
   ]
  },
  {
   "cell_type": "code",
   "execution_count": 2,
   "metadata": {},
   "outputs": [
    {
     "name": "stdout",
     "output_type": "stream",
     "text": [
      "['ab', 'bc', 'bc', 'cd']\n",
      "{'bc', 'cd', 'ab'}\n"
     ]
    }
   ],
   "source": [
    "a = [\"ab\",\"bc\",\"bc\",\"cd\"]\n",
    "b = set(a)\n",
    "print(a)\n",
    "print(b)"
   ]
  },
  {
   "cell_type": "code",
   "execution_count": 6,
   "metadata": {},
   "outputs": [
    {
     "name": "stdout",
     "output_type": "stream",
     "text": [
      "5\n",
      "7\n",
      "the count is 2\n"
     ]
    }
   ],
   "source": [
    "u_i = str(\"enter names \")\n",
    "a = [\"ashwin\",\"jude\",\"jane\",\"jimmy\",\"tom\",\"jude\",\"jane\"]\n",
    "b = set(a)\n",
    "u = len(a)-len(b)\n",
    "print(\"the count is\",u)"
   ]
  },
  {
   "cell_type": "code",
   "execution_count": 21,
   "metadata": {},
   "outputs": [
    {
     "name": "stdout",
     "output_type": "stream",
     "text": [
      "['HANI', 'ANI', 'HANI', 'TIM', 'KIM']\n",
      "ANI 1\n",
      "TIM 1\n",
      "KIM 1\n",
      "HANI 2\n"
     ]
    }
   ],
   "source": [
    "names = []\n",
    "for i in range (0,5,1):\n",
    "    name = str(input(\"enter 10 names : \"))\n",
    "    name= name.strip()\n",
    "    name = name.upper()\n",
    "    names.append(name)\n",
    "print(names)\n",
    "a = set(names)\n",
    "for search in a:\n",
    "    count = 0\n",
    "    for item in names:\n",
    "        if search == item:\n",
    "            count = count+1\n",
    "    print(search,count)\n",
    "\n"
   ]
  },
  {
   "cell_type": "markdown",
   "metadata": {},
   "source": [
    "DICTIONARY"
   ]
  },
  {
   "cell_type": "code",
   "execution_count": 4,
   "metadata": {},
   "outputs": [
    {
     "name": "stdout",
     "output_type": "stream",
     "text": [
      "{'name': 'harini', 'reg no': 324, 'email': 'iuebvr@gmail.com'}\n",
      "harini\n"
     ]
    }
   ],
   "source": [
    "my_dict = {\"name\":\"harini\", \"reg no\":324, \"email\":\"iuebvr@gmail.com\"}\n",
    "print(my_dict[\"name\"])"
   ]
  },
  {
   "cell_type": "code",
   "execution_count": 5,
   "metadata": {},
   "outputs": [
    {
     "data": {
      "text/plain": [
       "{'name': 'Sruthi', 'reg no': 324, 'email': 'iuebvr@gmail.com'}"
      ]
     },
     "execution_count": 5,
     "metadata": {},
     "output_type": "execute_result"
    }
   ],
   "source": [
    "my_dict[\"name\"] = \"Sruthi\"\n",
    "my_dict"
   ]
  },
  {
   "cell_type": "code",
   "execution_count": 8,
   "metadata": {},
   "outputs": [
    {
     "data": {
      "text/plain": [
       "{'name': 'Sruthi',\n",
       " 'reg no': 324,\n",
       " 'email': 'iuebvr@gmail.com',\n",
       " 'phone': 8726422743}"
      ]
     },
     "execution_count": 8,
     "metadata": {},
     "output_type": "execute_result"
    }
   ],
   "source": [
    "my_dict[\"phone\"] = 8726422743\n",
    "my_dict"
   ]
  },
  {
   "cell_type": "code",
   "execution_count": 9,
   "metadata": {},
   "outputs": [
    {
     "data": {
      "text/plain": [
       "dict_values(['Sruthi', 324, 'iuebvr@gmail.com', 8726422743])"
      ]
     },
     "execution_count": 9,
     "metadata": {},
     "output_type": "execute_result"
    }
   ],
   "source": [
    "my_dict.values()"
   ]
  },
  {
   "cell_type": "code",
   "execution_count": 10,
   "metadata": {},
   "outputs": [
    {
     "data": {
      "text/plain": [
       "dict_keys(['name', 'reg no', 'email', 'phone'])"
      ]
     },
     "execution_count": 10,
     "metadata": {},
     "output_type": "execute_result"
    }
   ],
   "source": [
    "my_dict.keys()"
   ]
  },
  {
   "cell_type": "code",
   "execution_count": 15,
   "metadata": {},
   "outputs": [
    {
     "name": "stdout",
     "output_type": "stream",
     "text": [
      "dict_keys(['name', 'reg no', 'email', 'phone'])\n",
      "name\n",
      "reg no\n",
      "email\n",
      "phone\n"
     ]
    }
   ],
   "source": [
    "print(my_dict.keys())\n",
    "for key in my_dict.keys():\n",
    "    print(key)"
   ]
  },
  {
   "cell_type": "code",
   "execution_count": 16,
   "metadata": {},
   "outputs": [
    {
     "name": "stdout",
     "output_type": "stream",
     "text": [
      "dict_values(['Sruthi', 324, 'iuebvr@gmail.com', 8726422743])\n",
      "Sruthi\n",
      "324\n",
      "iuebvr@gmail.com\n",
      "8726422743\n"
     ]
    }
   ],
   "source": [
    "print(my_dict.values())\n",
    "for val in my_dict.values(): #to print only the value or keys using the for loop\n",
    "    print(val)"
   ]
  },
  {
   "cell_type": "code",
   "execution_count": 18,
   "metadata": {},
   "outputs": [
    {
     "data": {
      "text/plain": [
       "{'Name': ['hani', 'ani', 'jude', 'james'],\n",
       " 'Roll No': [1, 2, 3, 4],\n",
       " 'Phone': [12413, 1243134, 14313413, 3413413]}"
      ]
     },
     "execution_count": 18,
     "metadata": {},
     "output_type": "execute_result"
    }
   ],
   "source": [
    "details = {\n",
    "    \"Name\" : [\"hani\", \"ani\", \"jude\", \"james\"],\n",
    "    \"Roll No\" : [1,2,3,4],\n",
    "    \"Phone\" : [12413, 1243134, 14313413, 3413413]       #use list to store multipple values in the dictionary\n",
    "}\n",
    "details"
   ]
  },
  {
   "cell_type": "code",
   "execution_count": 30,
   "metadata": {},
   "outputs": [
    {
     "name": "stdout",
     "output_type": "stream",
     "text": [
      "hani\n",
      "ani\n",
      "jude\n",
      "james\n",
      "hani\n"
     ]
    }
   ],
   "source": [
    "for name in details[\"Name\"]: #to print only names from the dict\n",
    "    print(name)\n",
    "\n",
    "print(details[\"Name\"][0]) #indexing - to print a particular element"
   ]
  },
  {
   "cell_type": "code",
   "execution_count": 33,
   "metadata": {},
   "outputs": [
    {
     "name": "stdout",
     "output_type": "stream",
     "text": [
      "[{'Name': 'Hani', 'Roll No': 23}, {'Name': 'Ani', 'Roll No': 24}]\n"
     ]
    }
   ],
   "source": [
    "mscds = [\n",
    "    {\n",
    "        \"Name\" : \"Hani\",\n",
    "        \"Roll No\" : 23,\n",
    "    },\n",
    "    {\n",
    "        \"Name\" : \"Ani\",\n",
    "        \"Roll No\" : 24,\n",
    "    }\n",
    "]\n"
   ]
  },
  {
   "cell_type": "code",
   "execution_count": 59,
   "metadata": {},
   "outputs": [
    {
     "ename": "KeyError",
     "evalue": "'Hani'",
     "output_type": "error",
     "traceback": [
      "\u001b[1;31m---------------------------------------------------------------------------\u001b[0m",
      "\u001b[1;31mKeyError\u001b[0m                                  Traceback (most recent call last)",
      "\u001b[1;32md:\\Python\\Basics\\F.ipynb Cell 19\u001b[0m line \u001b[0;36m3\n\u001b[0;32m      <a href='vscode-notebook-cell:/d%3A/Python/Basics/F.ipynb#X24sZmlsZQ%3D%3D?line=0'>1</a>\u001b[0m \u001b[39mfor\u001b[39;00m data \u001b[39min\u001b[39;00m mscds:\n\u001b[0;32m      <a href='vscode-notebook-cell:/d%3A/Python/Basics/F.ipynb#X24sZmlsZQ%3D%3D?line=1'>2</a>\u001b[0m     \u001b[39mfor\u001b[39;00m val \u001b[39min\u001b[39;00m data\u001b[39m.\u001b[39mvalues():\n\u001b[1;32m----> <a href='vscode-notebook-cell:/d%3A/Python/Basics/F.ipynb#X24sZmlsZQ%3D%3D?line=2'>3</a>\u001b[0m         \u001b[39mprint\u001b[39m(data[val],end\u001b[39m=\u001b[39m\u001b[39m\"\u001b[39m\u001b[39m\\t\u001b[39;00m\u001b[39m\"\u001b[39m)\n\u001b[0;32m      <a href='vscode-notebook-cell:/d%3A/Python/Basics/F.ipynb#X24sZmlsZQ%3D%3D?line=3'>4</a>\u001b[0m     \u001b[39mprint\u001b[39m()\n\u001b[0;32m      <a href='vscode-notebook-cell:/d%3A/Python/Basics/F.ipynb#X24sZmlsZQ%3D%3D?line=4'>5</a>\u001b[0m \u001b[39mfor\u001b[39;00m data \u001b[39min\u001b[39;00m mscds:\n",
      "\u001b[1;31mKeyError\u001b[0m: 'Hani'"
     ]
    }
   ],
   "source": [
    "for data in mscds:\n",
    "    for val in data.values():\n",
    "        print(data[val],end=\"\\t\")\n",
    "    print()\n",
    "for data in mscds:\n",
    "    for key in data.keys():\n",
    "        print(data[key],end=\"\\t\")\n",
    "    print()\n"
   ]
  },
  {
   "cell_type": "code",
   "execution_count": 30,
   "metadata": {},
   "outputs": [
    {
     "name": "stdout",
     "output_type": "stream",
     "text": [
      "e 1\n",
      "o 2\n",
      "\n",
      "No of vowels:  2\n"
     ]
    },
    {
     "ename": "TypeError",
     "evalue": "bad operand type for unary +: 'str'",
     "output_type": "error",
     "traceback": [
      "\u001b[1;31m---------------------------------------------------------------------------\u001b[0m",
      "\u001b[1;31mTypeError\u001b[0m                                 Traceback (most recent call last)",
      "\u001b[1;32md:\\Python\\Basics\\F.ipynb Cell 20\u001b[0m line \u001b[0;36m2\n\u001b[0;32m     <a href='vscode-notebook-cell:/d%3A/Python/Basics/F.ipynb#X25sZmlsZQ%3D%3D?line=22'>23</a>\u001b[0m     \u001b[39mfor\u001b[39;00m a \u001b[39min\u001b[39;00m \u001b[39mrange\u001b[39m(\u001b[39m0\u001b[39m,\u001b[39m5\u001b[39m):\n\u001b[0;32m     <a href='vscode-notebook-cell:/d%3A/Python/Basics/F.ipynb#X25sZmlsZQ%3D%3D?line=23'>24</a>\u001b[0m         \u001b[39mprint\u001b[39m( \u001b[39m+\u001b[39m\u001b[39mstr\u001b[39m(count))\n\u001b[1;32m---> <a href='vscode-notebook-cell:/d%3A/Python/Basics/F.ipynb#X25sZmlsZQ%3D%3D?line=25'>26</a>\u001b[0m vowel()\n",
      "\u001b[1;32md:\\Python\\Basics\\F.ipynb Cell 20\u001b[0m line \u001b[0;36m2\n\u001b[0;32m     <a href='vscode-notebook-cell:/d%3A/Python/Basics/F.ipynb#X25sZmlsZQ%3D%3D?line=21'>22</a>\u001b[0m vowels \u001b[39m=\u001b[39m [\u001b[39m'\u001b[39m\u001b[39ma\u001b[39m\u001b[39m'\u001b[39m,\u001b[39m'\u001b[39m\u001b[39me\u001b[39m\u001b[39m'\u001b[39m,\u001b[39m'\u001b[39m\u001b[39mi\u001b[39m\u001b[39m'\u001b[39m,\u001b[39m'\u001b[39m\u001b[39mo\u001b[39m\u001b[39m'\u001b[39m,\u001b[39m'\u001b[39m\u001b[39mu\u001b[39m\u001b[39m'\u001b[39m]\n\u001b[0;32m     <a href='vscode-notebook-cell:/d%3A/Python/Basics/F.ipynb#X25sZmlsZQ%3D%3D?line=22'>23</a>\u001b[0m \u001b[39mfor\u001b[39;00m a \u001b[39min\u001b[39;00m \u001b[39mrange\u001b[39m(\u001b[39m0\u001b[39m,\u001b[39m5\u001b[39m):\n\u001b[1;32m---> <a href='vscode-notebook-cell:/d%3A/Python/Basics/F.ipynb#X25sZmlsZQ%3D%3D?line=23'>24</a>\u001b[0m     \u001b[39mprint\u001b[39m( \u001b[39m+\u001b[39;49m\u001b[39mstr\u001b[39;49m(count))\n",
      "\u001b[1;31mTypeError\u001b[0m: bad operand type for unary +: 'str'"
     ]
    }
   ],
   "source": [
    "\n",
    "def vowel():\n",
    "    String = input('Enter the string :')\n",
    "    count = 0\n",
    "    String = String.lower()\n",
    "    for i in String:\n",
    "        if i == 'a':\n",
    "            count=count+1\n",
    "            print(i,count)\n",
    "        elif i == 'e':\n",
    "            count=count+1\n",
    "            print(i,count)\n",
    "        elif i == 'i': \n",
    "            count=count+1\n",
    "            print(i,count)\n",
    "        elif i == 'o':\n",
    "            count=count+1\n",
    "            print(i,count)\n",
    "        elif i == 'u':\n",
    "            count=count+1\n",
    "            print(i,count)        \n",
    "    print(\"\\nNo of vowels: \",count)\n",
    "    vowels = ['a','e','i','o','u']\n",
    "    for a in range(0,5):\n",
    "        print( +str(count))\n",
    "\n",
    "vowel()\n",
    "\n"
   ]
  },
  {
   "cell_type": "code",
   "execution_count": 26,
   "metadata": {},
   "outputs": [
    {
     "name": "stdout",
     "output_type": "stream",
     "text": [
      "hi\n",
      "percentage is 50.00%\n",
      "50.0\n",
      "i 1\n",
      "\n",
      "No of vowels:  1\n"
     ]
    }
   ],
   "source": [
    "def vowelcounter(str):\n",
    "    count = 0\n",
    "    vowel = set (\"aeiouAEIOU\")\n",
    "    for letters in str:\n",
    "        if letters in vowel:\n",
    "            count=count+1\n",
    "            per=(count/len(str))*100\n",
    "            print(f\"percentage is {per:.2f}%\")\n",
    "            print(per)\n",
    "            print(letters,count)\n",
    "    print(\"\\nNo of vowels: \",count)\n",
    "str=input(\"Enter words\")\n",
    "\n",
    "print(str)\n",
    "vowelcounter(str)"
   ]
  },
  {
   "cell_type": "code",
   "execution_count": 36,
   "metadata": {},
   "outputs": [
    {
     "ename": "TypeError",
     "evalue": "'str' object is not callable",
     "output_type": "error",
     "traceback": [
      "\u001b[1;31m---------------------------------------------------------------------------\u001b[0m",
      "\u001b[1;31mTypeError\u001b[0m                                 Traceback (most recent call last)",
      "\u001b[1;32md:\\Python\\Basics\\F.ipynb Cell 22\u001b[0m line \u001b[0;36m2\n\u001b[0;32m      <a href='vscode-notebook-cell:/d%3A/Python/Basics/F.ipynb#X30sZmlsZQ%3D%3D?line=0'>1</a>\u001b[0m \u001b[39m# initializing string\u001b[39;00m\n\u001b[1;32m----> <a href='vscode-notebook-cell:/d%3A/Python/Basics/F.ipynb#X30sZmlsZQ%3D%3D?line=1'>2</a>\u001b[0m st\u001b[39m=\u001b[39m\u001b[39mstr\u001b[39;49m(\u001b[39minput\u001b[39;49m(\u001b[39m\"\u001b[39;49m\u001b[39mEnter words\u001b[39;49m\u001b[39m\"\u001b[39;49m))\n\u001b[0;32m      <a href='vscode-notebook-cell:/d%3A/Python/Basics/F.ipynb#X30sZmlsZQ%3D%3D?line=2'>3</a>\u001b[0m \u001b[39mprint\u001b[39m(st)\n",
      "\u001b[1;31mTypeError\u001b[0m: 'str' object is not callable"
     ]
    }
   ],
   "source": [
    "# initializing string\n",
    "st=str(input(\"Enter words\"))\n",
    "counter = st.count('e')\n",
    " \n",
    "# printing result\n",
    "print(\"Count of e in GeeksforGeeks is : \"\n",
    "      + str(counter))\n"
   ]
  },
  {
   "cell_type": "code",
   "execution_count": 8,
   "metadata": {},
   "outputs": [
    {
     "name": "stdout",
     "output_type": "stream",
     "text": [
      "yes\n"
     ]
    }
   ],
   "source": [
    "a=[1,2,3,4]\n",
    "b=[0,3,0,4,4]\n",
    "if(a>b):\n",
    "    print(\"yes\")\n",
    "else:\n",
    "    print(\"no\")"
   ]
  },
  {
   "cell_type": "code",
   "execution_count": 10,
   "metadata": {},
   "outputs": [
    {
     "name": "stdout",
     "output_type": "stream",
     "text": [
      "Studentid :  10\n",
      "Studentname :  hani\n",
      "Studentnumber :  124\n"
     ]
    }
   ],
   "source": [
    "def student(id,name,numer):\n",
    "    print(\"Studentid : \",id)\n",
    "    print(\"Studentname : \",name)\n",
    "    print(\"Studentnumber : \",numer)\n",
    "\n",
    "id=input(\"Enter id\")\n",
    "name=input(\"Enter name\")\n",
    "numer=input(\"Enter number\")\n",
    "\n",
    "student(id,name,numer)"
   ]
  },
  {
   "cell_type": "code",
   "execution_count": 16,
   "metadata": {},
   "outputs": [
    {
     "name": "stdout",
     "output_type": "stream",
     "text": [
      "['a', 'b', 'c']\n",
      "dict_values([1, 2, 3])\n"
     ]
    }
   ],
   "source": [
    "i ={\n",
    "    'a':1,\n",
    "    'b':2,\n",
    "    'c':3\n",
    "}\n",
    "j=i.keys()\n",
    "k=list(j)\n",
    "print(k)\n",
    "l=i.values()\n",
    "m=list(l)\n",
    "print(l)"
   ]
  },
  {
   "cell_type": "code",
   "execution_count": 22,
   "metadata": {},
   "outputs": [
    {
     "name": "stdout",
     "output_type": "stream",
     "text": [
      "{'T': 3, 'H': 1, 'I': 2, 'S': 5, 'A': 3, 'L': 1, 'O': 1, 'R': 1, 'C': 1, 'E': 1}\n"
     ]
    }
   ],
   "source": [
    "a = str(input(\"Enter a String : \"))\n",
    "b = a.upper()\n",
    "dict = {}\n",
    "\n",
    "for i in b:\n",
    "   if i in dict:\n",
    "      continue\n",
    "   elif i==\" \":\n",
    "      continue\n",
    "   else:\n",
    "      dict[i]=b.count(i)\n",
    "print(dict) "
   ]
  },
  {
   "cell_type": "code",
   "execution_count": 24,
   "metadata": {},
   "outputs": [
    {
     "name": "stdout",
     "output_type": "stream",
     "text": [
      "List :\n"
     ]
    },
    {
     "ename": "TypeError",
     "evalue": "'int' object is not iterable",
     "output_type": "error",
     "traceback": [
      "\u001b[1;31m---------------------------------------------------------------------------\u001b[0m",
      "\u001b[1;31mTypeError\u001b[0m                                 Traceback (most recent call last)",
      "\u001b[1;32md:\\Python\\Basics\\IPYNB\\F.ipynb Cell 27\u001b[0m line \u001b[0;36m9\n\u001b[0;32m      <a href='vscode-notebook-cell:/d%3A/Python/Basics/IPYNB/F.ipynb#X35sZmlsZQ%3D%3D?line=6'>7</a>\u001b[0m \u001b[39mprint\u001b[39m(\u001b[39m\"\u001b[39m\u001b[39mList :\u001b[39m\u001b[39m\"\u001b[39m)\n\u001b[0;32m      <a href='vscode-notebook-cell:/d%3A/Python/Basics/IPYNB/F.ipynb#X35sZmlsZQ%3D%3D?line=7'>8</a>\u001b[0m \u001b[39mfor\u001b[39;00m i \u001b[39min\u001b[39;00m b:\n\u001b[1;32m----> <a href='vscode-notebook-cell:/d%3A/Python/Basics/IPYNB/F.ipynb#X35sZmlsZQ%3D%3D?line=8'>9</a>\u001b[0m     c \u001b[39m=\u001b[39m \u001b[39mlist\u001b[39;49m(i)\n\u001b[0;32m     <a href='vscode-notebook-cell:/d%3A/Python/Basics/IPYNB/F.ipynb#X35sZmlsZQ%3D%3D?line=9'>10</a>\u001b[0m     \u001b[39mprint\u001b[39m(c)\n",
      "\u001b[1;31mTypeError\u001b[0m: 'int' object is not iterable"
     ]
    }
   ],
   "source": [
    "b = []\n",
    "n=int(input(\"enter the number of element\"))\n",
    "\n",
    "for i in range(n):\n",
    "    b.append(int(input(\"Enter the values\")))\n",
    "\n",
    "print(\"List :\")\n",
    "for i in b:\n",
    "    print(c)\n"
   ]
  },
  {
   "cell_type": "code",
   "execution_count": 31,
   "metadata": {},
   "outputs": [
    {
     "ename": "SyntaxError",
     "evalue": "invalid syntax (895231175.py, line 1)",
     "output_type": "error",
     "traceback": [
      "\u001b[1;36m  Cell \u001b[1;32mIn[31], line 1\u001b[1;36m\u001b[0m\n\u001b[1;33m    b=input[]\u001b[0m\n\u001b[1;37m            ^\u001b[0m\n\u001b[1;31mSyntaxError\u001b[0m\u001b[1;31m:\u001b[0m invalid syntax\n"
     ]
    }
   ],
   "source": [
    "b=input[]\n",
    "print(b)\n",
    "\n",
    "c=[]\n",
    "for i in range(5):\n",
    "    a=int(input(\"Enter\"))\n",
    "    c.append(a)\n",
    "print(c)\n",
    "\n",
    "\n"
   ]
  },
  {
   "cell_type": "code",
   "execution_count": 44,
   "metadata": {},
   "outputs": [
    {
     "name": "stdout",
     "output_type": "stream",
     "text": [
      "['6,5,7']\n"
     ]
    }
   ],
   "source": [
    "b =input([])\n",
    "c=[]\n",
    "c.append(b)\n",
    "print(c)\n"
   ]
  },
  {
   "cell_type": "code",
   "execution_count": null,
   "metadata": {},
   "outputs": [],
   "source": []
  }
 ],
 "metadata": {
  "kernelspec": {
   "display_name": "Python 3",
   "language": "python",
   "name": "python3"
  },
  "language_info": {
   "codemirror_mode": {
    "name": "ipython",
    "version": 3
   },
   "file_extension": ".py",
   "mimetype": "text/x-python",
   "name": "python",
   "nbconvert_exporter": "python",
   "pygments_lexer": "ipython3",
   "version": "3.11.4"
  },
  "orig_nbformat": 4
 },
 "nbformat": 4,
 "nbformat_minor": 2
}
