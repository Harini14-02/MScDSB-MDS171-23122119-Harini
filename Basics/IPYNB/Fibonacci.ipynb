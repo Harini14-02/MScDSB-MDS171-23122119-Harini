{
 "cells": [
  {
   "cell_type": "code",
   "execution_count": 2,
   "metadata": {},
   "outputs": [
    {
     "name": "stdout",
     "output_type": "stream",
     "text": [
      "Fibonacci sequence:\n",
      "0\n",
      "1\n"
     ]
    }
   ],
   "source": [
    "\n",
    "\n",
    "no = int(input(\"How many terms? \"))\n",
    "n1, n2 = 0, 1\n",
    "count = 0\n",
    "\n",
    "\n",
    "if no <= 0:\n",
    "   print(\"Please enter a positive integer\")\n",
    "\n",
    "elif no == 1:\n",
    "   print(\"Fibonacci sequence upto\",no,\":\")\n",
    "   print(n1)\n",
    "\n",
    "else:\n",
    "   print(\"Fibonacci sequence:\")\n",
    "   while count < no:\n",
    "       print(n1)\n",
    "       nth = n1 + n2\n",
    "       n1 = n2\n",
    "       n2 = nth\n",
    "       count += 1"
   ]
  },
  {
   "cell_type": "code",
   "execution_count": 4,
   "metadata": {},
   "outputs": [
    {
     "name": "stdout",
     "output_type": "stream",
     "text": [
      "Item\tSold\tAmount\n",
      "apple\t0\t0\n",
      "orange\t0\t0\n",
      "\n",
      "The following dish(s) have maximum sales\n",
      "apple - total order value = 0\n",
      "orange - total order value = 0\n"
     ]
    }
   ],
   "source": [
    "thing=input(\"Enter the item:\")\n",
    "orders=int(input(\"Enter the order quantity:\"))\n",
    "items=[\"apple\",\"orange\"]\n",
    "price=[30,40,50,60]\n",
    "countd=[0,0,0,0]\n",
    "sumd=[0,0,0,0]\n",
    "j=0\n",
    "display=input(\"What you want to be displayed; a)current data stores b)Analytics: a/b\")\n",
    "if display==\"a\":\n",
    "    for line in open(\"details.txt\",\"r+\"):\n",
    "        read=line.split(\";\")\n",
    "        if read[0]==\"Dish Name\":\n",
    "            print(read[0])\n",
    "        elif read[0]!=\"Dish Name\":\n",
    "            print(read[0])\n",
    "elif display==\"b\":\n",
    "    print(\"Item\\tSold\\tAmount\")\n",
    "    for i in items:\n",
    "        print(i+\"\\t\"+str(countd[j])+\"\\t\"+str(sumd[j]))\n",
    "        j=j+1\n",
    "maxval=max(sumd)\n",
    "j=0\n",
    "maxarr=[None]*2\n",
    "for i in range(0,2):\n",
    "    if sumd[i]==maxval:\n",
    "        maxarr[j]=i\n",
    "        j=j+1\n",
    "print(\"\\nThe following dish(s) have maximum sales\")\n",
    "for i in maxarr:\n",
    "    if i != None:\n",
    "        print(items[i],\"- total order value =\",sumd[i])"
   ]
  },
  {
   "cell_type": "code",
   "execution_count": null,
   "metadata": {},
   "outputs": [],
   "source": []
  }
 ],
 "metadata": {
  "kernelspec": {
   "display_name": "Python 3",
   "language": "python",
   "name": "python3"
  },
  "language_info": {
   "codemirror_mode": {
    "name": "ipython",
    "version": 3
   },
   "file_extension": ".py",
   "mimetype": "text/x-python",
   "name": "python",
   "nbconvert_exporter": "python",
   "pygments_lexer": "ipython3",
   "version": "3.11.4"
  },
  "orig_nbformat": 4
 },
 "nbformat": 4,
 "nbformat_minor": 2
}
