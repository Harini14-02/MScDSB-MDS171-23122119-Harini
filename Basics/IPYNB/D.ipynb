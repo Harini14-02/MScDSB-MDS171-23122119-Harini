{
 "cells": [
  {
   "cell_type": "markdown",
   "metadata": {},
   "source": [
    "File Handling"
   ]
  },
  {
   "cell_type": "code",
   "execution_count": 54,
   "metadata": {},
   "outputs": [],
   "source": [
    "file = open(\"sample.txt\",\"r+\")"
   ]
  },
  {
   "cell_type": "code",
   "execution_count": 55,
   "metadata": {},
   "outputs": [
    {
     "data": {
      "text/plain": [
       "'This is the first time \\n'"
      ]
     },
     "execution_count": 55,
     "metadata": {},
     "output_type": "execute_result"
    }
   ],
   "source": [
    "file.write(\"This is the first time \\n\")\n",
    "file.readline()"
   ]
  },
  {
   "cell_type": "code",
   "execution_count": 56,
   "metadata": {},
   "outputs": [
    {
     "data": {
      "text/plain": [
       "['This is the first time \\n',\n",
       " 'This is the first time \\n',\n",
       " 'This is the first time \\n',\n",
       " 'This is the first time \\n',\n",
       " 'This is the first time \\n',\n",
       " 'This is the first time \\n']"
      ]
     },
     "execution_count": 56,
     "metadata": {},
     "output_type": "execute_result"
    }
   ],
   "source": [
    "file.readlines()"
   ]
  },
  {
   "cell_type": "code",
   "execution_count": 57,
   "metadata": {},
   "outputs": [],
   "source": [
    "file.close()"
   ]
  },
  {
   "cell_type": "markdown",
   "metadata": {},
   "source": [
    "write a function in python that accepts ypur details and save it into file your name\n"
   ]
  },
  {
   "cell_type": "code",
   "execution_count": 6,
   "metadata": {},
   "outputs": [],
   "source": [
    "\n",
    "def fname():\n",
    "    a = input(\"enter your name\")\n",
    "    b = input(\"enter the information\")\n",
    "    file = open(a + \".txt\",\"w+\")\n",
    "    file.write(b)\n",
    "fname()"
   ]
  },
  {
   "cell_type": "code",
   "execution_count": 1,
   "metadata": {},
   "outputs": [],
   "source": [
    "def Fname(name, email, phone):\n",
    "    filename = name + \".txt\"\n",
    "    with open(filename,\"w+\") as file:\n",
    "        file.write(\"Name \\t:\\t\" +name) #\\t is tab space \n",
    "        file.write(\"\\nEmail \\t:\\t\" +email)\n",
    "        file.write(\"\\nPhone \\t:\\t\" +phone)\n",
    "\n",
    "username = input(\"enter ypur name\")\n",
    "useremail = input(\"enter your email\")\n",
    "userphone = input(\"enter your phone number\")\n",
    "Fname(username,useremail,userphone)\n"
   ]
  },
  {
   "cell_type": "markdown",
   "metadata": {},
   "source": [
    "Write a python program that will take two operands and an operator and perform the calculation and give the result. Also save the calculation that your program perform it in a file."
   ]
  },
  {
   "cell_type": "code",
   "execution_count": 11,
   "metadata": {},
   "outputs": [
    {
     "name": "stdout",
     "output_type": "stream",
     "text": [
      "32\n"
     ]
    }
   ],
   "source": [
    "def tname():\n",
    "    a = int(input(\"enter a number\"))\n",
    "    b = int(input(\"enter a number\"))\n",
    "    c = input(\"enter an operator\")\n",
    "    if(c == '+'):\n",
    "        ans=a+b\n",
    "        print(ans)\n",
    "    elif(c == '-'):\n",
    "        ans=a-b\n",
    "        print(ans)\n",
    "    elif(c == '*'):\n",
    "        ans=a*b\n",
    "        print(ans)\n",
    "    else:\n",
    "        print(\"enter a valid operand\")\n",
    "    file = open(\"sample.txt\",\"a+\")\n",
    "    for i in range(0,2):\n",
    "        file.write(str(a)+\",\"+str(c)+\",\"+str(b)+\",\"+str(ans)+\"\\n\")\n",
    "    for i in range(0,len(lista)):\n",
    "tname()"
   ]
  },
  {
   "cell_type": "code",
   "execution_count": 10,
   "metadata": {},
   "outputs": [
    {
     "ename": "TypeError",
     "evalue": "can only concatenate str (not \"int\") to str",
     "output_type": "error",
     "traceback": [
      "\u001b[1;31m---------------------------------------------------------------------------\u001b[0m",
      "\u001b[1;31mTypeError\u001b[0m                                 Traceback (most recent call last)",
      "\u001b[1;32md:\\Python\\Basics\\IPYNB\\D.ipynb Cell 11\u001b[0m line \u001b[0;36m2\n\u001b[0;32m     <a href='vscode-notebook-cell:/d%3A/Python/Basics/IPYNB/D.ipynb#X13sZmlsZQ%3D%3D?line=18'>19</a>\u001b[0m useremail \u001b[39m=\u001b[39m \u001b[39mint\u001b[39m(\u001b[39minput\u001b[39m(\u001b[39m\"\u001b[39m\u001b[39menter a numer\u001b[39m\u001b[39m\"\u001b[39m))\n\u001b[0;32m     <a href='vscode-notebook-cell:/d%3A/Python/Basics/IPYNB/D.ipynb#X13sZmlsZQ%3D%3D?line=19'>20</a>\u001b[0m userphone \u001b[39m=\u001b[39m \u001b[39minput\u001b[39m(\u001b[39m\"\u001b[39m\u001b[39menter an operand\u001b[39m\u001b[39m\"\u001b[39m)\n\u001b[1;32m---> <a href='vscode-notebook-cell:/d%3A/Python/Basics/IPYNB/D.ipynb#X13sZmlsZQ%3D%3D?line=20'>21</a>\u001b[0m Lname(username,useremail,userphone)\n\u001b[0;32m     <a href='vscode-notebook-cell:/d%3A/Python/Basics/IPYNB/D.ipynb#X13sZmlsZQ%3D%3D?line=21'>22</a>\u001b[0m file\u001b[39m.\u001b[39mclose()\n",
      "\u001b[1;32md:\\Python\\Basics\\IPYNB\\D.ipynb Cell 11\u001b[0m line \u001b[0;36m3\n\u001b[0;32m      <a href='vscode-notebook-cell:/d%3A/Python/Basics/IPYNB/D.ipynb#X13sZmlsZQ%3D%3D?line=0'>1</a>\u001b[0m \u001b[39mdef\u001b[39;00m \u001b[39mLname\u001b[39m(a, b, c):\n\u001b[0;32m      <a href='vscode-notebook-cell:/d%3A/Python/Basics/IPYNB/D.ipynb#X13sZmlsZQ%3D%3D?line=1'>2</a>\u001b[0m     file\u001b[39m=\u001b[39m\u001b[39mopen\u001b[39m(\u001b[39m\"\u001b[39m\u001b[39msample.txt\u001b[39m\u001b[39m\"\u001b[39m,\u001b[39m\"\u001b[39m\u001b[39mr+\u001b[39m\u001b[39m\"\u001b[39m)\n\u001b[1;32m----> <a href='vscode-notebook-cell:/d%3A/Python/Basics/IPYNB/D.ipynb#X13sZmlsZQ%3D%3D?line=2'>3</a>\u001b[0m     file\u001b[39m.\u001b[39mwrite(\u001b[39m\"\u001b[39;49m\u001b[39mnum 1 \u001b[39;49m\u001b[39m\\t\u001b[39;49;00m\u001b[39m:\u001b[39;49m\u001b[39m\\t\u001b[39;49;00m\u001b[39m\"\u001b[39;49m \u001b[39m+\u001b[39;49ma) \n\u001b[0;32m      <a href='vscode-notebook-cell:/d%3A/Python/Basics/IPYNB/D.ipynb#X13sZmlsZQ%3D%3D?line=3'>4</a>\u001b[0m     file\u001b[39m.\u001b[39mwrite(\u001b[39m\"\u001b[39m\u001b[39m\\n\u001b[39;00m\u001b[39mnum 2 \u001b[39m\u001b[39m\\t\u001b[39;00m\u001b[39m:\u001b[39m\u001b[39m\\t\u001b[39;00m\u001b[39m\"\u001b[39m \u001b[39m+\u001b[39mb)\n\u001b[0;32m      <a href='vscode-notebook-cell:/d%3A/Python/Basics/IPYNB/D.ipynb#X13sZmlsZQ%3D%3D?line=4'>5</a>\u001b[0m     file\u001b[39m.\u001b[39mwrite(\u001b[39m\"\u001b[39m\u001b[39m\\n\u001b[39;00m\u001b[39moperator \u001b[39m\u001b[39m\\t\u001b[39;00m\u001b[39m:\u001b[39m\u001b[39m\\t\u001b[39;00m\u001b[39m\"\u001b[39m \u001b[39m+\u001b[39mc)\n",
      "\u001b[1;31mTypeError\u001b[0m: can only concatenate str (not \"int\") to str"
     ]
    }
   ],
   "source": [
    "def Lname(a, b, c):\n",
    "    file=open(\"sample.txt\",\"r+\")\n",
    "    file.write(\"num 1 \\t:\\t\" +a) \n",
    "    file.write(\"\\nnum 2 \\t:\\t\" +b)\n",
    "    file.write(\"\\noperator \\t:\\t\" +c)\n",
    "    if(c == '+'):\n",
    "        e = a+b\n",
    "        print(e)\n",
    "    elif(c == '-'):\n",
    "        f = a-b\n",
    "        print(f)\n",
    "    elif(c == '*'):\n",
    "        g = a*b\n",
    "        print(g)\n",
    "    else:\n",
    "        print(\"enter a valid operand\")\n",
    "\n",
    "username = int(input(\"enter a numer\"))\n",
    "useremail = int(input(\"enter a numer\"))\n",
    "userphone = input(\"enter an operand\")\n",
    "Lname(username,useremail,userphone)\n",
    "file.close()\n"
   ]
  },
  {
   "cell_type": "code",
   "execution_count": 33,
   "metadata": {},
   "outputs": [],
   "source": [
    "def st(item, qt):\n",
    "    file = open(\"Grocery1.txt\",\"w\")\n",
    "    file.write(\"\\nItem \\t:\\t\" +item)\n",
    "    file.write(\"\\nQuantity \\t:\\t\" +qt)\n",
    "\n",
    "b = input(\"Enter the item\")\n",
    "c = input(\"Enter the quantity\")\n",
    "st(b,c)\n",
    "\n"
   ]
  },
  {
   "cell_type": "code",
   "execution_count": 37,
   "metadata": {},
   "outputs": [
    {
     "name": "stdout",
     "output_type": "stream",
     "text": [
      "\n"
     ]
    }
   ],
   "source": [
    "def st(item, qt):\n",
    "    file = open(\"Grocery1.txt\",\"a\")\n",
    "    file.write(\"\\nItem \\t:\\t\" +item)\n",
    "    file.write(\"\\nQuantity \\t:\\t\" +qt)\n",
    "\n",
    "b = input(\"Enter the item\")\n",
    "c = input(\"Enter the quantity\")\n",
    "st(b,c)\n",
    "\n",
    "def cal():\n",
    "    result = b.count(b) == len(b)\n",
    "    if(b == 'Apple'):\n",
    "        print(b)\n",
    "    else:\n",
    "        print()\n",
    "cal()"
   ]
  },
  {
   "cell_type": "code",
   "execution_count": 1,
   "metadata": {},
   "outputs": [
    {
     "name": "stdout",
     "output_type": "stream",
     "text": [
      "95\n",
      "115\n"
     ]
    }
   ],
   "source": [
    "my_dict={\"dicts\":[]}\n",
    "\n",
    "for i in range(0,2):\n",
    "    details={\"name\":input(\"Enter your name\"),\"age\":input(\"Age\"),\"class\":input(\"Class\"),\"marks\":[]}\n",
    "    for j in range(0,2):\n",
    "        sub=int(input(\"Enter Sub mark\"))\n",
    "        details[\"marks\"].append(sub)\n",
    "    my_dict[\"dicts\"].append(details)\n",
    "for i in my_dict[\"dicts\"]:\n",
    "    sum=0\n",
    "    for j in i[\"marks\"]:\n",
    "        sum+=j\n",
    "    print(sum)\n"
   ]
  },
  {
   "cell_type": "code",
   "execution_count": 6,
   "metadata": {},
   "outputs": [
    {
     "name": "stdout",
     "output_type": "stream",
     "text": [
      "['2', '3']\n"
     ]
    }
   ],
   "source": [
    "a=input()\n",
    "list=[]\n",
    "list=a.split(\",\")\n",
    "print(list)"
   ]
  },
  {
   "cell_type": "code",
   "execution_count": 16,
   "metadata": {},
   "outputs": [
    {
     "name": "stdout",
     "output_type": "stream",
     "text": [
      "2\n",
      "6\n",
      "=\n"
     ]
    }
   ],
   "source": [
    "a=[2,4,8]\n",
    "b=[1,6,8]\n",
    "k=0\n",
    "for i in range(0,len(a)):\n",
    "    for j in range(k,4):\n",
    "        if a[i]>b[j]:\n",
    "            k+=1\n",
    "            print(a[i])\n",
    "            break\n",
    "        elif b[j]>a[i]:\n",
    "            k+=1\n",
    "            print(b[j])\n",
    "            break\n",
    "        else:\n",
    "            k+=1\n",
    "            print(\"=\")\n",
    "            break"
   ]
  }
 ],
 "metadata": {
  "kernelspec": {
   "display_name": "Python 3",
   "language": "python",
   "name": "python3"
  },
  "language_info": {
   "codemirror_mode": {
    "name": "ipython",
    "version": 3
   },
   "file_extension": ".py",
   "mimetype": "text/x-python",
   "name": "python",
   "nbconvert_exporter": "python",
   "pygments_lexer": "ipython3",
   "version": "3.11.4"
  },
  "orig_nbformat": 4
 },
 "nbformat": 4,
 "nbformat_minor": 2
}
