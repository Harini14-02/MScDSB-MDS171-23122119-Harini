{
 "cells": [
  {
   "cell_type": "markdown",
   "metadata": {},
   "source": [
    "Write a Python program to implement a Stack class that has the following functions\n",
    "\n",
    "Push Item\n",
    "Pop Item\n",
    "Print the Items in the stack\n",
    "Size of Stack\n",
    "The top item in the stack\n",
    "Check if the stack is empty"
   ]
  },
  {
   "cell_type": "code",
   "execution_count": 1,
   "metadata": {},
   "outputs": [
    {
     "name": "stdout",
     "output_type": "stream",
     "text": [
      "Size of the stack: 7\n",
      "Top element: nine\n",
      "\n",
      "Popped item: nine\n",
      "\n",
      "Stack size: 6\n",
      "\n",
      "Top element: ten\n"
     ]
    },
    {
     "name": "stdout",
     "output_type": "stream",
     "text": [
      "Unavailable\n",
      "['0', '1', '2', '3', '4', 'ten']\n"
     ]
    }
   ],
   "source": [
    "class Stack:\n",
    "    def __init__(self):\n",
    "        self.data = []\n",
    "\n",
    "    def push(self, data):\n",
    "        self.data.append(data)\n",
    "\n",
    "    def pop(self):\n",
    "        if not self.is_empty():\n",
    "            return self.data.pop()\n",
    "        else:\n",
    "            return \"Cannot pop from an empty stack.\"\n",
    "\n",
    "    def is_empty(self):\n",
    "        return len(self.data) == 0\n",
    "\n",
    "    def size(self):\n",
    "        return len(self.data)\n",
    "    \n",
    "    def search(self):\n",
    "        i = input(\"Enter to search\")\n",
    "        if i in self.data:\n",
    "            print(\"Available : \",i)\n",
    "        else:\n",
    "            print(\"Unavailable\")\n",
    "    \n",
    "\n",
    "    def peek(self):\n",
    "        if not self.is_empty():\n",
    "            return self.data[-1]\n",
    "        else:\n",
    "            return \"Empty stack.\"\n",
    "        \n",
    "    def display(self):\n",
    "        print(self.data)\n",
    "        \n",
    "\n",
    "stack = Stack()\n",
    "stack.push('0')\n",
    "stack.push('1')\n",
    "stack.push('2')\n",
    "stack.push('3')\n",
    "stack.push('4')\n",
    "stack.push(\"ten\")\n",
    "stack.push(\"nine\")\n",
    "\n",
    "print(\"Size of the stack:\", stack.size())\n",
    "print(\"Top element:\", stack.peek())\n",
    "popped_item = stack.pop()\n",
    "print(\"\\nPopped item:\", popped_item)\n",
    "print(\"\\nStack size:\", stack.size())\n",
    "print(\"\\nTop element:\", stack.peek())\n",
    "stack.search()\n",
    "stack.display()\n",
    "\n",
    "\n",
    "\n",
    "\n"
   ]
  },
  {
   "cell_type": "code",
   "execution_count": null,
   "metadata": {},
   "outputs": [],
   "source": []
  }
 ],
 "metadata": {
  "kernelspec": {
   "display_name": "Python 3",
   "language": "python",
   "name": "python3"
  },
  "language_info": {
   "codemirror_mode": {
    "name": "ipython",
    "version": 3
   },
   "file_extension": ".py",
   "mimetype": "text/x-python",
   "name": "python",
   "nbconvert_exporter": "python",
   "pygments_lexer": "ipython3",
   "version": "3.11.4"
  },
  "orig_nbformat": 4
 },
 "nbformat": 4,
 "nbformat_minor": 2
}
