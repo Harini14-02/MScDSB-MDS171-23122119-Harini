{
 "cells": [
  {
   "cell_type": "markdown",
   "metadata": {},
   "source": []
  },
  {
   "cell_type": "code",
   "execution_count": 67,
   "metadata": {},
   "outputs": [
    {
     "name": "stdout",
     "output_type": "stream",
     "text": [
      "Row Number\tItem\t\tQuantity\tPrice\t\tTotal Price\n",
      "1\t\tGreen\t\t12\t\t50\t\t600\n",
      "2\t\tCyan\t\t8\t\t60\t\t480\n",
      "3\t\tCream\t\t9\t\t45\t\t405\n",
      "4\t\tGreen\t\t3\t\t60\t\t180\n",
      "5\t\tOrange\t\t8\t\t55\t\t440\n",
      "91\t\tRed\t\t3\t\t60\t\t180\n",
      "92\t\tCyan\t\t7\t\t65\t\t455\n",
      "93\t\tOrange\t\t4\t\t55\t\t220\n",
      "94\t\tOrange\t\t3\t\t80\t\t240\n",
      "95\t\tNeon\t\t2\t\t40\t\t80\n",
      "96\t\tRed\t\t1\t\t55\t\t55\n",
      "97\t\tPeach\t\t10\t\t85\t\t850\n",
      "98\t\tCream\t\t7\t\t30\t\t210\n",
      "99\t\tCyan\t\t2\t\t30\t\t60\n",
      "100\t\tBlue\t\t9\t\t30\t\t270\n",
      "New file created and 100 orders are recorded\n",
      "\n"
     ]
    }
   ],
   "source": [
    "\n",
    "import random\n",
    "def fileWrite(item,quantity,price): #function to write user input in data\n",
    "    file=open(\"23122119.txt\",\"a+\") #Opens a new file in txt format\n",
    "    file.write(\"\\n\"+item+\",\"+str(quantity)+\",\"+str(price)) #Column Header\n",
    "    file.close()\n",
    "\n",
    "def sales(countd,sumd,items,maxd,mind):\n",
    "    for i in range(0,10):\n",
    "        for line in open(\"23122119.txt\",\"r+\").readlines(): #Loop to add values for each item\n",
    "            read=line.split(\",\")\n",
    "            if read[0]==items[i]:\n",
    "                countd[i]=countd[i]+int(read[1])\n",
    "                sumd[i]=sumd[i]+(int(read[1])*int(read[2]))\n",
    "                if (int(read[1])*int(read[2]))>maxd[i]:\n",
    "                    maxd[i]=(int(read[1])*int(read[2]))\n",
    "                elif (int(read[1])*int(read[2]))<mind[i]:\n",
    "                    mind[i]=(int(read[1])*int(read[2]))\n",
    "    print(\"\\nItem\"+\" \"*5+\"Total Quantity\"+\" \"*5+\"Total\")\n",
    "    j=0\n",
    "    for i in items:\n",
    "        print(i+\" \"*10+str(countd[j])+\" \"*12+str(sumd[j]))\n",
    "        j=j+1\n",
    "    print(\"\\nItem\"+\" \"*5+\"Maximum\"+\" \"*5+\"Minimum\")\n",
    "    for i in range(0,10):\n",
    "        print(items[i]+\" \"*5+str(maxd[i])+\" \"*10+str(mind[i])) \n",
    "def displayrowt(): #Function to display top 5 and last 10 rows\n",
    "    i=0\n",
    "    print(\"Row Number\\tItem\\t\\tQuantity\\tPrice\\t\\tTotal Price\")\n",
    "    for line in open(\"23122119.txt\",\"r+\").readlines():\n",
    "        read=line.split(\",\")\n",
    "        if i>0:\n",
    "            total = int(read[1])*int(read[2])\n",
    "            q= \"%s\\t\\t%s\\t\\t%s\\t\\t%s\\t\\t%s\" % (i,read[0],read[1],int(read[2]),total)\n",
    "            if i>=1 and i<=5:\n",
    "                print(q)    \n",
    "            elif i>=91 and i<=101:\n",
    "                print(q)\n",
    "        i=i+1\n",
    "displayrowt()\n",
    "\n",
    "item = [\"Pink\",\"Black\",\"Orange\",\"Blue\",\"Red\",\"Peach\",\"Cream\",\"Green\",\"Neon\",\"Cyan\"]\n",
    "price=[30,40,50,60,45,80,65,85,90,55]\n",
    "quantity=[1,4,5,3,7,10,12,2,9,8]\n",
    "file=open(\"23122119.txt\",\"w+\")\n",
    "file.write(\"Item\\tQuantity\\tPrice\")\n",
    "file.close()\n",
    "for i in range(1,101): #Loop to generate random values and call list values using index and pass it to function\n",
    "    randitem=random.randint(0,9)\n",
    "    randprice=random.randint(0,9)\n",
    "    randquantity=random.randint(0,9)\n",
    "    fileWrite(item[randitem],quantity[randquantity],price[randprice])\n",
    "    if i==100:\n",
    "        print(\"New file created and 100 orders are recorded\\n\")\n",
    "\n"
   ]
  },
  {
   "cell_type": "code",
   "execution_count": 68,
   "metadata": {},
   "outputs": [
    {
     "name": "stdout",
     "output_type": "stream",
     "text": [
      "\n",
      "Item     Total Quantity     Total\n",
      "Pink          86            5900\n",
      "Black          86            5015\n",
      "Orange          92            4790\n",
      "Blue          62            4040\n",
      "Red          74            4295\n",
      "Peach          32            1675\n",
      "Cream          78            4180\n",
      "Green          31            1640\n",
      "Neon          55            3390\n",
      "Cyan          36            2190\n",
      "\n",
      "Item     Maximum     Minimum\n",
      "Pink     1020          30\n",
      "Black     800          90\n",
      "Orange     1020          50\n",
      "Blue     1020          100\n",
      "Red     1020          60\n",
      "Peach     550          60\n",
      "Cream     765          90\n",
      "Green     720          120\n",
      "Neon     640          55\n",
      "Cyan     600          540\n"
     ]
    }
   ],
   "source": [
    "countd=[0]*10 #List to store quantity of each item\n",
    "sumd=[0]*10 #List to store price of each item\n",
    "maxd=[0]*10 #List to find maximim price\n",
    "mind=[1080]*10 #List to find minimum price\n",
    "sales(countd,sumd,item,maxd,mind)\n"
   ]
  },
  {
   "cell_type": "code",
   "execution_count": null,
   "metadata": {},
   "outputs": [],
   "source": []
  }
 ],
 "metadata": {
  "kernelspec": {
   "display_name": "Python 3",
   "language": "python",
   "name": "python3"
  },
  "language_info": {
   "codemirror_mode": {
    "name": "ipython",
    "version": 3
   },
   "file_extension": ".py",
   "mimetype": "text/x-python",
   "name": "python",
   "nbconvert_exporter": "python",
   "pygments_lexer": "ipython3",
   "version": "3.11.4"
  },
  "orig_nbformat": 4
 },
 "nbformat": 4,
 "nbformat_minor": 2
}
