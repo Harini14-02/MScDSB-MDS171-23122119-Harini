{
 "cells": [
  {
   "cell_type": "code",
   "execution_count": 2,
   "metadata": {},
   "outputs": [
    {
     "name": "stdout",
     "output_type": "stream",
     "text": [
      "hi\n",
      "i 1\n",
      "\n",
      "No of vowels:  1\n",
      "The Percentage is 50.00%\n"
     ]
    }
   ],
   "source": [
    "def vowel(str): #creating a function name as vowel\n",
    "    count = 0\n",
    "    vowel = set (\"aeiouAEIOU\")\n",
    "    for letters in str: #using for loop to count the number of vowels present\n",
    "        if letters in vowel:\n",
    "            count=count+1\n",
    "    print(letters,count)        \n",
    "    print(\"\\nNo of vowels: \",count)\n",
    "    per=(count/len(str))*100\n",
    "    print(f\"The Percentage is {per:.2f}%\")\n",
    "    \n",
    "str=input(\"Enter words\")\n",
    "\n",
    "print(str)\n",
    "vowel(str)\n",
    "\n",
    "\n"
   ]
  },
  {
   "cell_type": "code",
   "execution_count": null,
   "metadata": {},
   "outputs": [],
   "source": []
  }
 ],
 "metadata": {
  "kernelspec": {
   "display_name": "Python 3",
   "language": "python",
   "name": "python3"
  },
  "language_info": {
   "codemirror_mode": {
    "name": "ipython",
    "version": 3
   },
   "file_extension": ".py",
   "mimetype": "text/x-python",
   "name": "python",
   "nbconvert_exporter": "python",
   "pygments_lexer": "ipython3",
   "version": "3.11.4"
  },
  "orig_nbformat": 4
 },
 "nbformat": 4,
 "nbformat_minor": 2
}
