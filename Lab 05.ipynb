{
 "cells": [
  {
   "cell_type": "code",
   "execution_count": 64,
   "metadata": {},
   "outputs": [
    {
     "name": "stdout",
     "output_type": "stream",
     "text": [
      "hi\n",
      "percentage is 50.00%\n",
      "i 1\n",
      "\n",
      "No of vowels:  1\n"
     ]
    }
   ],
   "source": [
    "def vowel(str):\n",
    "    count = 0\n",
    "    vowel = set (\"aeiouAEIOU\")\n",
    "    for letters in str:\n",
    "        if letters in vowel:\n",
    "            count=count+1\n",
    "            per=(count/len(str))*100\n",
    "            print(f\"percentage is {per:.2f}%\")\n",
    "            print(letters,count)\n",
    "    print(\"\\nNo of vowels: \",count)\n",
    "    \n",
    "str=input(\"Enter words\")\n",
    "\n",
    "print(str)\n",
    "vowel(str)\n",
    "\n",
    "\n"
   ]
  },
  {
   "cell_type": "code",
   "execution_count": null,
   "metadata": {},
   "outputs": [],
   "source": []
  }
 ],
 "metadata": {
  "kernelspec": {
   "display_name": "Python 3",
   "language": "python",
   "name": "python3"
  },
  "language_info": {
   "codemirror_mode": {
    "name": "ipython",
    "version": 3
   },
   "file_extension": ".py",
   "mimetype": "text/x-python",
   "name": "python",
   "nbconvert_exporter": "python",
   "pygments_lexer": "ipython3",
   "version": "3.11.4"
  },
  "orig_nbformat": 4
 },
 "nbformat": 4,
 "nbformat_minor": 2
}
